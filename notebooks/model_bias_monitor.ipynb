{
 "cells": [
  {
   "cell_type": "markdown",
   "id": "d6eccd85-1c0e-4f7b-9da0-dd473f8a9d95",
   "metadata": {},
   "source": [
    "# Model Bias Monitoring with AWS SageMaker Clarity"
   ]
  },
  {
   "cell_type": "markdown",
   "id": "67557cb8-fe01-473a-a256-442ab3131197",
   "metadata": {},
   "source": [
    "This Jupyter notebook shows how to perform model bias ovservability with AWS SageMaker in 4 chapters:\n",
    "\n",
    "1. [Training and deploying model](#1.-Training-and-deploying-model) for ML Observability on the prepared in advance dataset\n",
    "2. [Setting up monitoring job](#2.-Setting-up-monitoring-job) - Creates Monitoring tasks by creating baseline and scheduling regular monitoring\n",
    "3. [Generate traffic](#3.-Generating-traffic) - Provides traffic (examples and ground truth) to the endpoint based on which bias metrics will be calculated\n",
    "4. [Clean up](#4.-Clean-up) - Removes all the created resourses.\n",
    "\n",
    "Prerequisites:\n",
    "\n",
    "- Existing Roles with all needed permissions (S3, SageMaker, etc.);\n",
    "- Configured SageMaker Domain;\n",
    "- SageMaker Studio user.\n",
    "\n",
    "One can use SageMaker Studio Jupyter-like environment to run this notebook. To do that, follow the next steps:\n",
    "\n",
    "1. Run the SageMaker Studio\n",
    "2. Clone this repository (https://github.com/griddynamics/gd-ml-observability.git)\n",
    "\n",
    "![Add the repository.png](images/add_the_repository.jpg)\n",
    "![repository.png](images/repository.jpg)\n",
    "\n",
    "3. Run this notebook cell by cell paying attention to comments"
   ]
  },
  {
   "cell_type": "markdown",
   "id": "3dccd774-9ef4-477a-a409-4e8a4606ee94",
   "metadata": {},
   "source": [
    "### Importing necessary libraries"
   ]
  },
  {
   "cell_type": "code",
   "execution_count": null,
   "id": "db0aa694-f45f-4051-b253-1870d150a9ab",
   "metadata": {
    "tags": []
   },
   "outputs": [],
   "source": [
    "!pip install --upgrade boto3"
   ]
  },
  {
   "cell_type": "code",
   "execution_count": null,
   "id": "23465867-bed7-4cef-8699-3eeab0903008",
   "metadata": {
    "tags": []
   },
   "outputs": [],
   "source": [
    "import json\n",
    "import random\n",
    "import time\n",
    "import numpy as np\n",
    "import pandas as pd\n",
    "import sagemaker\n",
    "\n",
    "from datetime import datetime, timedelta\n",
    "\n",
    "from sagemaker import get_execution_role, image_uris\n",
    "from sagemaker.clarify import (\n",
    "    BiasConfig,\n",
    "    DataConfig,\n",
    "    ModelConfig,\n",
    "    ModelPredictedLabelConfig,\n",
    "    SHAPConfig,\n",
    ")\n",
    "from sagemaker.model import Model\n",
    "from sagemaker.model_monitor import (\n",
    "    BiasAnalysisConfig,\n",
    "    CronExpressionGenerator,\n",
    "    DataCaptureConfig,\n",
    "    EndpointInput,\n",
    "    ModelBiasMonitor,\n",
    ")\n",
    "from sagemaker.s3 import S3Downloader, S3Uploader"
   ]
  },
  {
   "cell_type": "markdown",
   "id": "735c2543-a393-467c-a0f8-c7c6d6c3a9a1",
   "metadata": {},
   "source": [
    "### Setting up necessary variables and constants"
   ]
  },
  {
   "cell_type": "code",
   "execution_count": null,
   "id": "be24abcc-7a7f-429b-b635-a33c30a39625",
   "metadata": {
    "tags": []
   },
   "outputs": [],
   "source": [
    "sagemaker_session = sagemaker.session.Session()\n",
    "sagemaker_client = sagemaker_session.sagemaker_client\n",
    "sagemaker_runtime_client = sagemaker_session.sagemaker_runtime_client\n",
    "role = get_execution_role()\n",
    "\n",
    "DATA_BUCKET = 'adp-rnd-ml-datasets'\n",
    "# Change the following bucket names if you want to run this code outside GridDynamics to the ones you have accees to.\n",
    "STAGE_BUCKET = 'adp-rnd-ml-stage'\n",
    "MODEL_BUCKET = 'adp-rnd-ml-models'\n",
    "\n",
    "NOW = datetime.now()"
   ]
  },
  {
   "cell_type": "markdown",
   "id": "6d2b35a3-6e7d-4850-b091-9a1c006a18ce",
   "metadata": {},
   "source": [
    "## 1. Training and deploying model"
   ]
  },
  {
   "cell_type": "markdown",
   "id": "f5ecac6b-c204-4036-adcf-3ad7a955146b",
   "metadata": {},
   "source": [
    "Creating Estimator instance fox XGBoost classifier model which then will be deployed for ML Observability. This model uses data obtained from https://www.kaggle.com/datasets/yasserh/loan-default-dataset/code which was preprocessed and stored in the public AWS S3 bucket. Data preparation is out of scope of this notebook."
   ]
  },
  {
   "cell_type": "code",
   "execution_count": null,
   "id": "8e124029-4ecf-442f-8fa0-e132bcf0b9a7",
   "metadata": {
    "tags": []
   },
   "outputs": [],
   "source": [
    "s3_input_train = sagemaker.inputs.TrainingInput(\n",
    "    s3_data=f\"s3://{DATA_BUCKET}/loan_default/train.csv\", content_type=\"csv\")\n",
    "s3_input_validation = sagemaker.inputs.TrainingInput(\n",
    "    s3_data=f\"s3://{DATA_BUCKET}/loan_default/eval.csv\", content_type=\"csv\")\n",
    "\n",
    "container = sagemaker.image_uris.retrieve(\"xgboost\", sagemaker_session.boto_region_name, \"1.5-1\")\n",
    "\n",
    "prefix = f'xgboost-for-loan-default-data-{NOW:%Y-%m-%d}'\n",
    "region = 'us-east-1'\n",
    "xgb_model_name = f'loan-default-classification-xgboost-{NOW:%Y-%m-%d}'\n",
    "xgb_endpoint_name = f'{xgb_model_name}-endpoint'"
   ]
  },
  {
   "cell_type": "markdown",
   "id": "b4d71b9f-ba85-4ae0-9bae-5e90897f59cb",
   "metadata": {},
   "source": [
    "### Training load default classification model"
   ]
  },
  {
   "cell_type": "code",
   "execution_count": null,
   "id": "7bb9c1ef-fb25-45e9-8018-e041f3170f45",
   "metadata": {
    "tags": []
   },
   "outputs": [],
   "source": [
    "# Creating a XGBoost Estimator\n",
    "xgb = sagemaker.estimator.Estimator(\n",
    "    container,\n",
    "    role,\n",
    "    base_job_name=prefix,\n",
    "    instance_count=1,\n",
    "    instance_type=\"ml.m4.xlarge\",\n",
    "    output_path=f\"s3://{MODEL_BUCKET}/{prefix}/output/\",\n",
    "    sagemaker_session=sagemaker_session,\n",
    ")\n",
    "\n",
    "xgb.set_hyperparameters(\n",
    "    max_depth=5,\n",
    "    eta=0.2,\n",
    "    gamma=4,\n",
    "    min_child_weight=2,\n",
    "    subsample=0.8,\n",
    "    verbosity=0,\n",
    "    objective=\"binary:logistic\",\n",
    "    num_round=100,\n",
    ")"
   ]
  },
  {
   "cell_type": "code",
   "execution_count": null,
   "id": "f586cb32-ce4c-4eed-ae53-ccc2161bd94d",
   "metadata": {
    "tags": []
   },
   "outputs": [],
   "source": [
    "xgb.fit({\"train\": s3_input_train, \"validation\": s3_input_validation})"
   ]
  },
  {
   "cell_type": "markdown",
   "id": "1a6d4978-1eae-4909-895b-8ba067fa0976",
   "metadata": {},
   "source": [
    "### Deploying model"
   ]
  },
  {
   "cell_type": "markdown",
   "id": "9df3c014-c39b-4e27-9269-454aa2798417",
   "metadata": {},
   "source": [
    "Adding data caprure config to be able to monitor model quality on the stored data "
   ]
  },
  {
   "cell_type": "code",
   "execution_count": null,
   "id": "7176b64d-d8cc-4c80-83fa-977a9c9b0c83",
   "metadata": {
    "tags": []
   },
   "outputs": [],
   "source": [
    "s3_key = f\"s3://{STAGE_BUCKET}/{prefix}\"\n",
    "print(f\"S3 key: {s3_key}\")\n",
    "s3_capture_upload_path = f\"{s3_key}/datacapture\"\n",
    "\n",
    "data_capture_config = DataCaptureConfig(\n",
    "    enable_capture=True,\n",
    "    sampling_percentage=100,\n",
    "    destination_s3_uri=s3_capture_upload_path,\n",
    ")"
   ]
  },
  {
   "cell_type": "code",
   "execution_count": null,
   "id": "268d702d-be7b-470d-aeab-b995f6a366ea",
   "metadata": {
    "tags": []
   },
   "outputs": [],
   "source": [
    "xgb_predictor = xgb.deploy(\n",
    "    endpoint_name=xgb_endpoint_name,\n",
    "    model_name=xgb_model_name,\n",
    "    initial_instance_count=1, \n",
    "    instance_type=\"ml.m4.xlarge\",\n",
    "    data_capture_config=data_capture_config,\n",
    ")"
   ]
  },
  {
   "cell_type": "markdown",
   "id": "fef6ee74-b0fe-4b4b-a463-06eacd2c30dd",
   "metadata": {},
   "source": [
    "### Results"
   ]
  },
  {
   "cell_type": "markdown",
   "id": "9bbec4fa-af38-4985-ac47-d35f9798e850",
   "metadata": {
    "tags": []
   },
   "source": [
    "As a result, one will get a Load Default model and an endpoint. You can find them in the AWS Console -> SageMaker -> Governance -> Model cards. The new model should appear with specified endpoint (and that's all for now)\n",
    "\n",
    "\n",
    "![governance.png](images/governance.jpg)"
   ]
  },
  {
   "cell_type": "markdown",
   "id": "5bcab79a-8deb-4734-8838-37ce22bccc53",
   "metadata": {},
   "source": [
    "## 2. Setting up monitoring job"
   ]
  },
  {
   "cell_type": "code",
   "execution_count": null,
   "id": "653cb277-1a13-47c0-9030-b390dc52c6be",
   "metadata": {
    "tags": []
   },
   "outputs": [],
   "source": [
    "monitoring_prefix = f\"{prefix}/ClarifyModelMonitor-{NOW:%Y-%m-%d}\"\n",
    "\n",
    "\n",
    "ground_truth_upload_path = f\"{s3_key}/ground_truth_data\"\n",
    "s3_report_path = f\"{s3_key}/reports\"\n",
    "\n",
    "print(f\"Capture path: {s3_capture_upload_path}\")\n",
    "print(f\"Ground truth path: {ground_truth_upload_path}\")\n",
    "print(f\"Report path: {s3_report_path}\")\n",
    "\n",
    "baseline_results_uri = f\"{s3_key}/baselining\"\n",
    "print(f\"Baseline results uri: {baseline_results_uri}\")\n",
    "model_bias_baselining_job_result_uri = f\"{baseline_results_uri}/model_bias\"\n",
    "validation_dataset = s3_input_validation.config['DataSource']['S3DataSource']['S3Uri']\n",
    "training_dataset = s3_input_validation.config['DataSource']['S3DataSource']['S3Uri']"
   ]
  },
  {
   "cell_type": "code",
   "execution_count": null,
   "id": "9c456e85-3d8c-4e6d-b740-e4bf7177f117",
   "metadata": {
    "tags": []
   },
   "outputs": [],
   "source": [
    "label_header = 'Status'\n",
    "all_headers = ['Status', 'loan_amount', 'term', 'income', 'Credit_Score', 'loan_limit',\n",
    "       'approv_in_adv', 'Credit_Worthiness', 'open_credit',\n",
    "       'business_or_commercial', 'Neg_ammortization', 'interest_only',\n",
    "       'lump_sum_payment', 'Secured_by', 'co-applicant_credit_type',\n",
    "       'submission_of_application', 'Gender_Female', 'Gender_Joint',\n",
    "       'Gender_Male', 'Gender_Sex Not Available', 'loan_purpose_p1',\n",
    "       'loan_purpose_p2', 'loan_purpose_p3', 'loan_purpose_p4',\n",
    "       'occupancy_type_ir', 'occupancy_type_pr', 'occupancy_type_sr',\n",
    "       'total_units_1U', 'total_units_2U', 'total_units_3U', 'total_units_4U',\n",
    "       'age_25-34', 'age_35-44', 'age_45-54', 'age_55-64', 'age_65-74',\n",
    "       'age_gt74', 'age_lt25']\n",
    "dataset_type = \"text/csv\""
   ]
  },
  {
   "cell_type": "code",
   "execution_count": null,
   "id": "1978e0a4-2324-4ee0-901d-4a3fcf5591dd",
   "metadata": {
    "tags": []
   },
   "outputs": [],
   "source": [
    "model_bias_monitor = ModelBiasMonitor(\n",
    "    role=role,\n",
    "    sagemaker_session=sagemaker_session,\n",
    "    max_runtime_in_seconds=1800,\n",
    ")\n",
    "\n",
    "model_bias_data_config = DataConfig(\n",
    "    s3_data_input_path=validation_dataset,\n",
    "    s3_output_path=model_bias_baselining_job_result_uri,\n",
    "    label=label_header,\n",
    "    headers=all_headers,\n",
    "    dataset_type=dataset_type,\n",
    ")"
   ]
  },
  {
   "cell_type": "markdown",
   "id": "eb2a0667-9f49-4254-9d99-c3dfa299239f",
   "metadata": {},
   "source": [
    "Setting up facets - sensitive features based on which model bias will be calculated and observed"
   ]
  },
  {
   "cell_type": "code",
   "execution_count": null,
   "id": "2398faa8-73c9-411f-add7-9eea111978bd",
   "metadata": {
    "tags": []
   },
   "outputs": [],
   "source": [
    "FACET_COLUMNS_VALUES = {\n",
    "    facet: values \n",
    "    for facet, values\n",
    "    in zip(\n",
    "        ['Gender_Female', 'Gender_Joint', 'Gender_Male', 'Gender_Sex Not Available', 'income',\n",
    "         'occupancy_type_ir', 'occupancy_type_pr', 'occupancy_type_sr', 'age_25-34', 'age_35-44',\n",
    "         'age_45-54', 'age_55-64', 'age_65-74', 'age_gt74', 'age_lt25'],\n",
    "        [\n",
    "            [1], [1], [1], [1], # Gender - Binary data, assessing only positive values of one-hot-encoded features\n",
    "             [25000.], # income - threshold splitting into 2 groups with income level less and more then 30000.0 \n",
    "             [1], [1], [1], # occupancy_pyte - Binary data, assessing only positive values of one-hot-encoded features \n",
    "             [1], [1], [1], [1], [1], [1], [1] # age -  Binary data, assessing only positive values of one-hot-encoded features\n",
    "        ]\n",
    "    )\n",
    "}"
   ]
  },
  {
   "cell_type": "code",
   "execution_count": null,
   "id": "3740e90b-cb2a-4b12-912c-c4f1b2ab7a99",
   "metadata": {
    "tags": []
   },
   "outputs": [],
   "source": [
    "model_bias_config = BiasConfig(\n",
    "    # Loan default value of target feature Status is 1. \n",
    "    # Thus, we'll choose 0 as positive outcome, so Bias metrics could make sense\n",
    "    label_values_or_threshold=[0],\n",
    "    facet_name=list(FACET_COLUMNS_VALUES.keys()),\n",
    "    facet_values_or_threshold=list(FACET_COLUMNS_VALUES.values()),\n",
    ")"
   ]
  },
  {
   "cell_type": "code",
   "execution_count": null,
   "id": "35d4de0a-0df7-47d3-8197-f5693f7cecef",
   "metadata": {
    "tags": []
   },
   "outputs": [],
   "source": [
    "model_predicted_label_config = ModelPredictedLabelConfig(probability_threshold=.5)\n",
    "model_config = ModelConfig(\n",
    "    instance_count=1,\n",
    "    instance_type=\"ml.m4.xlarge\",\n",
    "    content_type=dataset_type,\n",
    "    accept_type=dataset_type,\n",
    "    endpoint_name=xgb_endpoint_name,\n",
    ")"
   ]
  },
  {
   "cell_type": "markdown",
   "id": "3738f518-c0d6-4515-ba22-3e52a8bcba25",
   "metadata": {},
   "source": [
    "### Creating baseline"
   ]
  },
  {
   "cell_type": "code",
   "execution_count": null,
   "id": "222ad0c1-ef20-479c-8bf2-038ddea23425",
   "metadata": {
    "tags": []
   },
   "outputs": [],
   "source": [
    "model_bias_monitor.suggest_baseline(\n",
    "    model_configvalidation_datasetig,\n",
    "    data_config=model_bias_data_config,\n",
    "    bias_config=model_bias_config,\n",
    "    model_predicted_label_config=model_predicted_label_config,\n",
    ")\n",
    "\n",
    "model_bias_monitor.latest_baselining_job.wait(logs=False)\n",
    "model_bias_constraints = model_bias_monitor.suggested_constraints()\n",
    "print()\n",
    "print(f\"ModelBiasMonitor suggested constraints: {model_bias_constraints.file_s3_uri}\")\n",
    "print(S3Downloader.read_file(model_bias_constraints.file_s3_uri))\n"
   ]
  },
  {
   "cell_type": "markdown",
   "id": "67cc455b-fed0-493f-8ce2-fa78aa8bd7c4",
   "metadata": {},
   "source": [
    "### Setting up monitoring job"
   ]
  },
  {
   "cell_type": "code",
   "execution_count": null,
   "id": "9444f5ad-4a5a-4ea5-8677-32930a1cf101",
   "metadata": {
    "tags": []
   },
   "outputs": [],
   "source": [
    "model_bias_analysis_config = None\n",
    "if not model_bias_monitor.latest_baselining_job:\n",
    "    model_bias_analysis_config = BiasAnalysisConfig(\n",
    "        model_bias_config,\n",
    "        headers=all_headers,\n",
    "        label=label_header,\n",
    "    )\n",
    "\n",
    "model_bias_monitor.create_monitoring_schedule(\n",
    "    analysis_config=model_bias_analysis_config,\n",
    "    output_s3_uri=s3_report_path,\n",
    "    endpoint_input=EndpointInput(\n",
    "        endpoint_name=xgb_endpoint_name,\n",
    "        destination=\"/opt/ml/processing/input/endpoint\",\n",
    "        start_time_offset=\"-PT1H\",\n",
    "        end_time_offset=\"-PT0H\",\n",
    "        probability_threshold_attribute=0.5,\n",
    "    ),\n",
    "    ground_truth_input=ground_truth_upload_path,\n",
    "    schedule_cron_expression=CronExpressionGenerator.hourly(),\n",
    ")\n",
    "print(f\"Model bias monitoring schedule: {model_bias_monitor.monitoring_schedule_name}\")"
   ]
  },
  {
   "cell_type": "markdown",
   "id": "c01ea526-ef99-4adb-9b97-2ee3a3a1d90e",
   "metadata": {},
   "source": [
    "### Results"
   ]
  },
  {
   "cell_type": "markdown",
   "id": "54f4f8d1-5466-434e-9bee-2dc7600c73b2",
   "metadata": {},
   "source": [
    "Model monitoring job will be created. It might be found in the model dashboard if we go to the card or in the SageMaker Studio:\n",
    "SageMaker Studio -> Home -> Deployments -> Endpoint -> _Model name_ -> Model bias\n",
    "\n",
    "\n",
    "![studio_model](images/studio_model.jpg)\n",
    "![monitoring_job](images/monitoring_job.jpg)\n",
    "\n",
    "After some time, when several reports will be generated (after the 3rd chapter) one will be able to see bias metrics charts below"
   ]
  },
  {
   "cell_type": "markdown",
   "id": "19261039-b5df-4a45-8f6d-7d6d5f3c8c87",
   "metadata": {},
   "source": [
    "## 3. Generating traffic"
   ]
  },
  {
   "cell_type": "markdown",
   "id": "0bf5d84b-4fcb-49bc-be27-155944a51cea",
   "metadata": {},
   "source": [
    "Preparing data for checking for model bias. It can be any data supported by model. For simplicity we can just use our train and validation datasets to see different model monitoring results."
   ]
  },
  {
   "cell_type": "code",
   "execution_count": null,
   "id": "1a7ed27b-94d2-4f09-8f84-099d3549032e",
   "metadata": {
    "tags": []
   },
   "outputs": [],
   "source": [
    "test_df = pd.read_csv(validation_dataset)\n",
    "tr_df = pd.read_csv(training_dataset)\n",
    "for col in FACET_COLUMNS_VALUES:\n",
    "    if col == 'income':\n",
    "        continue\n",
    "    test_df[col] = test_df[col].astype(int)\n",
    "    tr_df[col] = tr_df[col].astype(int)"
   ]
  },
  {
   "cell_type": "code",
   "execution_count": null,
   "id": "a3921c14-32da-4b89-871b-480d916e390a",
   "metadata": {
    "tags": []
   },
   "outputs": [],
   "source": [
    "# Serialization function which will make Clarity understand types of attributes\n",
    "def cast_str(x):\n",
    "    if x in [1.0, 1, 0, 0.0]:\n",
    "        return(str(int(x)))\n",
    "    return str(x)\n",
    "\n",
    "def serialize_example(example):\n",
    "    return ','.join(map(cast_str, example))"
   ]
  },
  {
   "cell_type": "code",
   "execution_count": null,
   "id": "be41b804-1bfc-4c73-b356-089f7257b55d",
   "metadata": {
    "tags": []
   },
   "outputs": [],
   "source": [
    "import threading\n",
    "\n",
    "class WorkerThread(threading.Thread):\n",
    "    def __init__(self, do_run, *args, **kwargs):\n",
    "        super(WorkerThread, self).__init__(*args, **kwargs)\n",
    "        self.__do_run = do_run\n",
    "        self.__terminate_event = threading.Event()\n",
    "\n",
    "    def terminate(self):\n",
    "        self.__terminate_event.set()\n",
    "\n",
    "    def run(self):\n",
    "        is_test = False\n",
    "        while not self.__terminate_event.is_set():\n",
    "            df = test_df if is_test else tr_df\n",
    "            self.__do_run(self.__terminate_event, df)\n",
    "            is_test = not is_test"
   ]
  },
  {
   "cell_type": "code",
   "execution_count": null,
   "id": "f0d9f9f1-3d80-483b-b33f-dcb1197de03b",
   "metadata": {
    "tags": []
   },
   "outputs": [],
   "source": [
    "def invoke(df, terminate_event):\n",
    "    # Getting predictions from deployed model from given dataframe\n",
    "    for i, row in df.drop(columns=['Status']).iterrows():\n",
    "        payload = serialize_example(row)\n",
    "        response = sagemaker_runtime_client.invoke_endpoint(\n",
    "            EndpointName=xgb_endpoint_name,\n",
    "            Body=payload,\n",
    "            ContentType=dataset_type,\n",
    "            InferenceId=str(i)\n",
    "        )\n",
    "        prediction = response[\"Body\"].read()\n",
    "        time.sleep(0.01)\n",
    "        if terminate_event.is_set():\n",
    "            break\n",
    "\n",
    "def real_ground_truth_with_id(inference_id, df):\n",
    "    return {\n",
    "        \"groundTruthData\": {\n",
    "            \"data\": str(int(df.iloc[inference_id]['Status'])),\n",
    "            \"encoding\": \"CSV\",\n",
    "        },\n",
    "        \"eventMetadata\": {\n",
    "            \"eventId\": str(inference_id),\n",
    "        },\n",
    "        \"eventVersion\": \"0\",\n",
    "    }\n",
    "\n",
    "\n",
    "def upload_ground_truth(upload_time, df):\n",
    "    records = [real_ground_truth_with_id(i, df) for i in range(len(df))]\n",
    "    records = [json.dumps(r) for r in records]\n",
    "    data_to_upload = \"\\n\".join(records)\n",
    "    target_s3_uri = f\"{ground_truth_upload_path}/{upload_time:%Y/%m/%d/%H/%M%S}.jsonl\"\n",
    "    S3Uploader.upload_string_as_file_body(data_to_upload, target_s3_uri)\n",
    "\n",
    "def generate_ground_truth(terminate_event, df):\n",
    "    invoke(df, terminate_event)\n",
    "    upload_ground_truth(datetime.utcnow(), df)\n",
    "    for _ in range(0, 60):\n",
    "        time.sleep(60)\n",
    "        if terminate_event.is_set():\n",
    "            break"
   ]
  },
  {
   "cell_type": "code",
   "execution_count": null,
   "id": "28ba35fd-2c42-4799-8664-a671190dc0fd",
   "metadata": {
    "tags": []
   },
   "outputs": [],
   "source": [
    "ground_truth_thread = WorkerThread(do_run=generate_ground_truth)\n",
    "ground_truth_thread.start()"
   ]
  },
  {
   "cell_type": "markdown",
   "id": "b7d0e8d9-f546-4a67-b67d-bc6305aa338a",
   "metadata": {},
   "source": [
    "### Results"
   ]
  },
  {
   "cell_type": "markdown",
   "id": "7074f498-bb0a-408f-8c8d-469deb0dbd58",
   "metadata": {},
   "source": [
    "After some time, we'll see the monitoring job results in the Monitoring Job History tab\n",
    "\n",
    "![monitoring_result](images/monitoring_result.jpg)\n",
    "\n",
    "Clicking on them we can see the additional details: which metrics constrains were violated compared to the baseline \n",
    "![violations](images/violations.jpg)"
   ]
  },
  {
   "cell_type": "markdown",
   "id": "88b9969c-cc15-49af-8e57-c5af9e950775",
   "metadata": {
    "tags": []
   },
   "source": [
    "## 4. Cleaning up "
   ]
  },
  {
   "cell_type": "markdown",
   "id": "cd0bf892-8bf7-431a-a9f1-843f4a9c776c",
   "metadata": {},
   "source": [
    "Now we know how to set up model bias monitoring with AWS SageMaker tools. And we can remove all created resourses, in order not to recieve unexpected bills at the end of the month."
   ]
  },
  {
   "cell_type": "code",
   "execution_count": null,
   "id": "4e373fc3-3fc1-4632-bdbe-00e6dea10d4c",
   "metadata": {
    "tags": []
   },
   "outputs": [],
   "source": [
    "# Turning off traffic generation\n",
    "ground_truth_thread.terminate()\n",
    "# Deleting monitoring job\n",
    "model_bias_monitor.delete_monitoring_schedule()\n",
    "# Removing endpoint and model\n",
    "xgb_predictor.delete_endpoint()"
   ]
  },
  {
   "cell_type": "markdown",
   "id": "8b9a2e0b-7454-4109-bdec-1dd00fa0a290",
   "metadata": {},
   "source": [
    "Don't forget to stop the current runtime (if you work from the SageMaker Studio):\n",
    "\n",
    "![runtime](images/runtime.jpg)"
   ]
  }
 ],
 "metadata": {
  "instance_type": "ml.t3.medium",
  "kernelspec": {
   "display_name": "Python 3 (ipykernel)",
   "language": "python",
   "name": "python3"
  },
  "language_info": {
   "codemirror_mode": {
    "name": "ipython",
    "version": 3
   },
   "file_extension": ".py",
   "mimetype": "text/x-python",
   "name": "python",
   "nbconvert_exporter": "python",
   "pygments_lexer": "ipython3",
   "version": "3.9.15"
  }
 },
 "nbformat": 4,
 "nbformat_minor": 5
}
